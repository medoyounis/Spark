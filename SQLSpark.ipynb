{
  "nbformat": 4,
  "nbformat_minor": 0,
  "metadata": {
    "colab": {
      "provenance": []
    },
    "kernelspec": {
      "name": "python3",
      "display_name": "Python 3"
    },
    "language_info": {
      "name": "python"
    }
  },
  "cells": [
    {
      "cell_type": "code",
      "execution_count": 3,
      "metadata": {
        "id": "ot7_z2ei-8eI"
      },
      "outputs": [],
      "source": [
        "!apt-get install openjdk-8-jdk-headless -qq > /dev/null\n",
        "!wget -q http://archive.apache.org/dist/spark/spark-3.1.1/spark-3.1.1-bin-hadoop3.2.tgz\n",
        "!tar xf spark-3.1.1-bin-hadoop3.2.tgz\n",
        "!pip install -q findspark"
      ]
    },
    {
      "cell_type": "code",
      "source": [
        "import os\n",
        "os.environ[\"JAVA_HOME\"] = \"/usr/lib/jvm/java-8-openjdk-amd64\"\n",
        "os.environ[\"SPARK_HOME\"] = \"/content/spark-3.1.1-bin-hadoop3.2\""
      ],
      "metadata": {
        "id": "7I2ZKtGh-_Js"
      },
      "execution_count": 4,
      "outputs": []
    },
    {
      "cell_type": "code",
      "source": [
        "import findspark\n",
        "findspark.init()\n",
        "from pyspark.sql import SparkSession\n",
        "spark = SparkSession.builder.master(\"local[*]\").getOrCreate()\n",
        "spark.conf.set(\"spark.sql.repl.eagerEval.enabled\", True) # Property used to format output tables better\n",
        "spark"
      ],
      "metadata": {
        "colab": {
          "base_uri": "https://localhost:8080/",
          "height": 221
        },
        "id": "twLdywy8-_MD",
        "outputId": "06540949-f84b-41f9-98ac-8be585d26b1f"
      },
      "execution_count": 5,
      "outputs": [
        {
          "output_type": "execute_result",
          "data": {
            "text/plain": [
              "<pyspark.sql.session.SparkSession at 0x79c1e5337940>"
            ],
            "text/html": [
              "\n",
              "            <div>\n",
              "                <p><b>SparkSession - in-memory</b></p>\n",
              "                \n",
              "        <div>\n",
              "            <p><b>SparkContext</b></p>\n",
              "\n",
              "            <p><a href=\"http://f159d60b8d9e:4040\">Spark UI</a></p>\n",
              "\n",
              "            <dl>\n",
              "              <dt>Version</dt>\n",
              "                <dd><code>v3.1.1</code></dd>\n",
              "              <dt>Master</dt>\n",
              "                <dd><code>local[*]</code></dd>\n",
              "              <dt>AppName</dt>\n",
              "                <dd><code>pyspark-shell</code></dd>\n",
              "            </dl>\n",
              "        </div>\n",
              "        \n",
              "            </div>\n",
              "        "
            ]
          },
          "metadata": {},
          "execution_count": 5
        }
      ]
    },
    {
      "cell_type": "code",
      "source": [
        "# Loading the Data using Spark #inferSchema: it loads features such as PassengerId as integer as they appear as an int instead of loading them as strings\n",
        "data=spark.read.csv(\"drive/MyDrive/train.csv\",header=True,inferSchema=True)"
      ],
      "metadata": {
        "id": "TOUwgxYS-_OW"
      },
      "execution_count": 36,
      "outputs": []
    },
    {
      "cell_type": "code",
      "source": [
        "data"
      ],
      "metadata": {
        "colab": {
          "base_uri": "https://localhost:8080/",
          "height": 520
        },
        "id": "Hm9s-yLF-_Qu",
        "outputId": "56ddbfac-8558-455c-e9ac-781986f65908"
      },
      "execution_count": 7,
      "outputs": [
        {
          "output_type": "execute_result",
          "data": {
            "text/plain": [
              "+-----------+--------+------+--------------------+------+----+-----+-----+----------------+-------+-----+--------+\n",
              "|PassengerId|Survived|Pclass|                Name|   Sex| Age|SibSp|Parch|          Ticket|   Fare|Cabin|Embarked|\n",
              "+-----------+--------+------+--------------------+------+----+-----+-----+----------------+-------+-----+--------+\n",
              "|          1|       0|     3|Braund, Mr. Owen ...|  male|22.0|    1|    0|       A/5 21171|   7.25| null|       S|\n",
              "|          2|       1|     1|Cumings, Mrs. Joh...|female|38.0|    1|    0|        PC 17599|71.2833|  C85|       C|\n",
              "|          3|       1|     3|Heikkinen, Miss. ...|female|26.0|    0|    0|STON/O2. 3101282|  7.925| null|       S|\n",
              "|          4|       1|     1|Futrelle, Mrs. Ja...|female|35.0|    1|    0|          113803|   53.1| C123|       S|\n",
              "|          5|       0|     3|Allen, Mr. Willia...|  male|35.0|    0|    0|          373450|   8.05| null|       S|\n",
              "|          6|       0|     3|    Moran, Mr. James|  male|null|    0|    0|          330877| 8.4583| null|       Q|\n",
              "|          7|       0|     1|McCarthy, Mr. Tim...|  male|54.0|    0|    0|           17463|51.8625|  E46|       S|\n",
              "|          8|       0|     3|Palsson, Master. ...|  male| 2.0|    3|    1|          349909| 21.075| null|       S|\n",
              "|          9|       1|     3|Johnson, Mrs. Osc...|female|27.0|    0|    2|          347742|11.1333| null|       S|\n",
              "|         10|       1|     2|Nasser, Mrs. Nich...|female|14.0|    1|    0|          237736|30.0708| null|       C|\n",
              "|         11|       1|     3|Sandstrom, Miss. ...|female| 4.0|    1|    1|         PP 9549|   16.7|   G6|       S|\n",
              "|         12|       1|     1|Bonnell, Miss. El...|female|58.0|    0|    0|          113783|  26.55| C103|       S|\n",
              "|         13|       0|     3|Saundercock, Mr. ...|  male|20.0|    0|    0|       A/5. 2151|   8.05| null|       S|\n",
              "|         14|       0|     3|Andersson, Mr. An...|  male|39.0|    1|    5|          347082| 31.275| null|       S|\n",
              "|         15|       0|     3|Vestrom, Miss. Hu...|female|14.0|    0|    0|          350406| 7.8542| null|       S|\n",
              "|         16|       1|     2|Hewlett, Mrs. (Ma...|female|55.0|    0|    0|          248706|   16.0| null|       S|\n",
              "|         17|       0|     3|Rice, Master. Eugene|  male| 2.0|    4|    1|          382652| 29.125| null|       Q|\n",
              "|         18|       1|     2|Williams, Mr. Cha...|  male|null|    0|    0|          244373|   13.0| null|       S|\n",
              "|         19|       0|     3|Vander Planke, Mr...|female|31.0|    1|    0|          345763|   18.0| null|       S|\n",
              "|         20|       1|     3|Masselmani, Mrs. ...|female|null|    0|    0|            2649|  7.225| null|       C|\n",
              "+-----------+--------+------+--------------------+------+----+-----+-----+----------------+-------+-----+--------+\n",
              "only showing top 20 rows"
            ],
            "text/html": [
              "<table border='1'>\n",
              "<tr><th>PassengerId</th><th>Survived</th><th>Pclass</th><th>Name</th><th>Sex</th><th>Age</th><th>SibSp</th><th>Parch</th><th>Ticket</th><th>Fare</th><th>Cabin</th><th>Embarked</th></tr>\n",
              "<tr><td>1</td><td>0</td><td>3</td><td>Braund, Mr. Owen ...</td><td>male</td><td>22.0</td><td>1</td><td>0</td><td>A/5 21171</td><td>7.25</td><td>null</td><td>S</td></tr>\n",
              "<tr><td>2</td><td>1</td><td>1</td><td>Cumings, Mrs. Joh...</td><td>female</td><td>38.0</td><td>1</td><td>0</td><td>PC 17599</td><td>71.2833</td><td>C85</td><td>C</td></tr>\n",
              "<tr><td>3</td><td>1</td><td>3</td><td>Heikkinen, Miss. ...</td><td>female</td><td>26.0</td><td>0</td><td>0</td><td>STON/O2. 3101282</td><td>7.925</td><td>null</td><td>S</td></tr>\n",
              "<tr><td>4</td><td>1</td><td>1</td><td>Futrelle, Mrs. Ja...</td><td>female</td><td>35.0</td><td>1</td><td>0</td><td>113803</td><td>53.1</td><td>C123</td><td>S</td></tr>\n",
              "<tr><td>5</td><td>0</td><td>3</td><td>Allen, Mr. Willia...</td><td>male</td><td>35.0</td><td>0</td><td>0</td><td>373450</td><td>8.05</td><td>null</td><td>S</td></tr>\n",
              "<tr><td>6</td><td>0</td><td>3</td><td>Moran, Mr. James</td><td>male</td><td>null</td><td>0</td><td>0</td><td>330877</td><td>8.4583</td><td>null</td><td>Q</td></tr>\n",
              "<tr><td>7</td><td>0</td><td>1</td><td>McCarthy, Mr. Tim...</td><td>male</td><td>54.0</td><td>0</td><td>0</td><td>17463</td><td>51.8625</td><td>E46</td><td>S</td></tr>\n",
              "<tr><td>8</td><td>0</td><td>3</td><td>Palsson, Master. ...</td><td>male</td><td>2.0</td><td>3</td><td>1</td><td>349909</td><td>21.075</td><td>null</td><td>S</td></tr>\n",
              "<tr><td>9</td><td>1</td><td>3</td><td>Johnson, Mrs. Osc...</td><td>female</td><td>27.0</td><td>0</td><td>2</td><td>347742</td><td>11.1333</td><td>null</td><td>S</td></tr>\n",
              "<tr><td>10</td><td>1</td><td>2</td><td>Nasser, Mrs. Nich...</td><td>female</td><td>14.0</td><td>1</td><td>0</td><td>237736</td><td>30.0708</td><td>null</td><td>C</td></tr>\n",
              "<tr><td>11</td><td>1</td><td>3</td><td>Sandstrom, Miss. ...</td><td>female</td><td>4.0</td><td>1</td><td>1</td><td>PP 9549</td><td>16.7</td><td>G6</td><td>S</td></tr>\n",
              "<tr><td>12</td><td>1</td><td>1</td><td>Bonnell, Miss. El...</td><td>female</td><td>58.0</td><td>0</td><td>0</td><td>113783</td><td>26.55</td><td>C103</td><td>S</td></tr>\n",
              "<tr><td>13</td><td>0</td><td>3</td><td>Saundercock, Mr. ...</td><td>male</td><td>20.0</td><td>0</td><td>0</td><td>A/5. 2151</td><td>8.05</td><td>null</td><td>S</td></tr>\n",
              "<tr><td>14</td><td>0</td><td>3</td><td>Andersson, Mr. An...</td><td>male</td><td>39.0</td><td>1</td><td>5</td><td>347082</td><td>31.275</td><td>null</td><td>S</td></tr>\n",
              "<tr><td>15</td><td>0</td><td>3</td><td>Vestrom, Miss. Hu...</td><td>female</td><td>14.0</td><td>0</td><td>0</td><td>350406</td><td>7.8542</td><td>null</td><td>S</td></tr>\n",
              "<tr><td>16</td><td>1</td><td>2</td><td>Hewlett, Mrs. (Ma...</td><td>female</td><td>55.0</td><td>0</td><td>0</td><td>248706</td><td>16.0</td><td>null</td><td>S</td></tr>\n",
              "<tr><td>17</td><td>0</td><td>3</td><td>Rice, Master. Eugene</td><td>male</td><td>2.0</td><td>4</td><td>1</td><td>382652</td><td>29.125</td><td>null</td><td>Q</td></tr>\n",
              "<tr><td>18</td><td>1</td><td>2</td><td>Williams, Mr. Cha...</td><td>male</td><td>null</td><td>0</td><td>0</td><td>244373</td><td>13.0</td><td>null</td><td>S</td></tr>\n",
              "<tr><td>19</td><td>0</td><td>3</td><td>Vander Planke, Mr...</td><td>female</td><td>31.0</td><td>1</td><td>0</td><td>345763</td><td>18.0</td><td>null</td><td>S</td></tr>\n",
              "<tr><td>20</td><td>1</td><td>3</td><td>Masselmani, Mrs. ...</td><td>female</td><td>null</td><td>0</td><td>0</td><td>2649</td><td>7.225</td><td>null</td><td>C</td></tr>\n",
              "</table>\n",
              "only showing top 20 rows\n"
            ]
          },
          "metadata": {},
          "execution_count": 7
        }
      ]
    },
    {
      "cell_type": "code",
      "source": [
        "data.printSchema()#shows the columns, and their types"
      ],
      "metadata": {
        "colab": {
          "base_uri": "https://localhost:8080/"
        },
        "id": "f0FD5mGj-_TB",
        "outputId": "b91476fe-5248-48f6-ee66-36282ec1651c"
      },
      "execution_count": 10,
      "outputs": [
        {
          "output_type": "stream",
          "name": "stdout",
          "text": [
            "root\n",
            " |-- PassengerId: integer (nullable = true)\n",
            " |-- Survived: integer (nullable = true)\n",
            " |-- Pclass: integer (nullable = true)\n",
            " |-- Name: string (nullable = true)\n",
            " |-- Sex: string (nullable = true)\n",
            " |-- Age: double (nullable = true)\n",
            " |-- SibSp: integer (nullable = true)\n",
            " |-- Parch: integer (nullable = true)\n",
            " |-- Ticket: string (nullable = true)\n",
            " |-- Fare: double (nullable = true)\n",
            " |-- Cabin: string (nullable = true)\n",
            " |-- Embarked: string (nullable = true)\n",
            "\n"
          ]
        }
      ]
    },
    {
      "cell_type": "code",
      "source": [
        "data.limit(10)#to show just 10 rows of data"
      ],
      "metadata": {
        "colab": {
          "base_uri": "https://localhost:8080/",
          "height": 273
        },
        "id": "KYqDCGdy-_VP",
        "outputId": "d2aabc3e-7cbc-463a-befc-cbc221618486"
      },
      "execution_count": 11,
      "outputs": [
        {
          "output_type": "execute_result",
          "data": {
            "text/plain": [
              "+-----------+--------+------+--------------------+------+----+-----+-----+----------------+-------+-----+--------+\n",
              "|PassengerId|Survived|Pclass|                Name|   Sex| Age|SibSp|Parch|          Ticket|   Fare|Cabin|Embarked|\n",
              "+-----------+--------+------+--------------------+------+----+-----+-----+----------------+-------+-----+--------+\n",
              "|          1|       0|     3|Braund, Mr. Owen ...|  male|22.0|    1|    0|       A/5 21171|   7.25| null|       S|\n",
              "|          2|       1|     1|Cumings, Mrs. Joh...|female|38.0|    1|    0|        PC 17599|71.2833|  C85|       C|\n",
              "|          3|       1|     3|Heikkinen, Miss. ...|female|26.0|    0|    0|STON/O2. 3101282|  7.925| null|       S|\n",
              "|          4|       1|     1|Futrelle, Mrs. Ja...|female|35.0|    1|    0|          113803|   53.1| C123|       S|\n",
              "|          5|       0|     3|Allen, Mr. Willia...|  male|35.0|    0|    0|          373450|   8.05| null|       S|\n",
              "|          6|       0|     3|    Moran, Mr. James|  male|null|    0|    0|          330877| 8.4583| null|       Q|\n",
              "|          7|       0|     1|McCarthy, Mr. Tim...|  male|54.0|    0|    0|           17463|51.8625|  E46|       S|\n",
              "|          8|       0|     3|Palsson, Master. ...|  male| 2.0|    3|    1|          349909| 21.075| null|       S|\n",
              "|          9|       1|     3|Johnson, Mrs. Osc...|female|27.0|    0|    2|          347742|11.1333| null|       S|\n",
              "|         10|       1|     2|Nasser, Mrs. Nich...|female|14.0|    1|    0|          237736|30.0708| null|       C|\n",
              "+-----------+--------+------+--------------------+------+----+-----+-----+----------------+-------+-----+--------+"
            ],
            "text/html": [
              "<table border='1'>\n",
              "<tr><th>PassengerId</th><th>Survived</th><th>Pclass</th><th>Name</th><th>Sex</th><th>Age</th><th>SibSp</th><th>Parch</th><th>Ticket</th><th>Fare</th><th>Cabin</th><th>Embarked</th></tr>\n",
              "<tr><td>1</td><td>0</td><td>3</td><td>Braund, Mr. Owen ...</td><td>male</td><td>22.0</td><td>1</td><td>0</td><td>A/5 21171</td><td>7.25</td><td>null</td><td>S</td></tr>\n",
              "<tr><td>2</td><td>1</td><td>1</td><td>Cumings, Mrs. Joh...</td><td>female</td><td>38.0</td><td>1</td><td>0</td><td>PC 17599</td><td>71.2833</td><td>C85</td><td>C</td></tr>\n",
              "<tr><td>3</td><td>1</td><td>3</td><td>Heikkinen, Miss. ...</td><td>female</td><td>26.0</td><td>0</td><td>0</td><td>STON/O2. 3101282</td><td>7.925</td><td>null</td><td>S</td></tr>\n",
              "<tr><td>4</td><td>1</td><td>1</td><td>Futrelle, Mrs. Ja...</td><td>female</td><td>35.0</td><td>1</td><td>0</td><td>113803</td><td>53.1</td><td>C123</td><td>S</td></tr>\n",
              "<tr><td>5</td><td>0</td><td>3</td><td>Allen, Mr. Willia...</td><td>male</td><td>35.0</td><td>0</td><td>0</td><td>373450</td><td>8.05</td><td>null</td><td>S</td></tr>\n",
              "<tr><td>6</td><td>0</td><td>3</td><td>Moran, Mr. James</td><td>male</td><td>null</td><td>0</td><td>0</td><td>330877</td><td>8.4583</td><td>null</td><td>Q</td></tr>\n",
              "<tr><td>7</td><td>0</td><td>1</td><td>McCarthy, Mr. Tim...</td><td>male</td><td>54.0</td><td>0</td><td>0</td><td>17463</td><td>51.8625</td><td>E46</td><td>S</td></tr>\n",
              "<tr><td>8</td><td>0</td><td>3</td><td>Palsson, Master. ...</td><td>male</td><td>2.0</td><td>3</td><td>1</td><td>349909</td><td>21.075</td><td>null</td><td>S</td></tr>\n",
              "<tr><td>9</td><td>1</td><td>3</td><td>Johnson, Mrs. Osc...</td><td>female</td><td>27.0</td><td>0</td><td>2</td><td>347742</td><td>11.1333</td><td>null</td><td>S</td></tr>\n",
              "<tr><td>10</td><td>1</td><td>2</td><td>Nasser, Mrs. Nich...</td><td>female</td><td>14.0</td><td>1</td><td>0</td><td>237736</td><td>30.0708</td><td>null</td><td>C</td></tr>\n",
              "</table>\n"
            ]
          },
          "metadata": {},
          "execution_count": 11
        }
      ]
    },
    {
      "cell_type": "code",
      "source": [
        "data.select('*')#select statement from SQL"
      ],
      "metadata": {
        "colab": {
          "base_uri": "https://localhost:8080/",
          "height": 520
        },
        "id": "FbSroO2n-_Xf",
        "outputId": "6a0a4ed8-95d1-404a-dc0b-92d6c5aa953f"
      },
      "execution_count": 12,
      "outputs": [
        {
          "output_type": "execute_result",
          "data": {
            "text/plain": [
              "+-----------+--------+------+--------------------+------+----+-----+-----+----------------+-------+-----+--------+\n",
              "|PassengerId|Survived|Pclass|                Name|   Sex| Age|SibSp|Parch|          Ticket|   Fare|Cabin|Embarked|\n",
              "+-----------+--------+------+--------------------+------+----+-----+-----+----------------+-------+-----+--------+\n",
              "|          1|       0|     3|Braund, Mr. Owen ...|  male|22.0|    1|    0|       A/5 21171|   7.25| null|       S|\n",
              "|          2|       1|     1|Cumings, Mrs. Joh...|female|38.0|    1|    0|        PC 17599|71.2833|  C85|       C|\n",
              "|          3|       1|     3|Heikkinen, Miss. ...|female|26.0|    0|    0|STON/O2. 3101282|  7.925| null|       S|\n",
              "|          4|       1|     1|Futrelle, Mrs. Ja...|female|35.0|    1|    0|          113803|   53.1| C123|       S|\n",
              "|          5|       0|     3|Allen, Mr. Willia...|  male|35.0|    0|    0|          373450|   8.05| null|       S|\n",
              "|          6|       0|     3|    Moran, Mr. James|  male|null|    0|    0|          330877| 8.4583| null|       Q|\n",
              "|          7|       0|     1|McCarthy, Mr. Tim...|  male|54.0|    0|    0|           17463|51.8625|  E46|       S|\n",
              "|          8|       0|     3|Palsson, Master. ...|  male| 2.0|    3|    1|          349909| 21.075| null|       S|\n",
              "|          9|       1|     3|Johnson, Mrs. Osc...|female|27.0|    0|    2|          347742|11.1333| null|       S|\n",
              "|         10|       1|     2|Nasser, Mrs. Nich...|female|14.0|    1|    0|          237736|30.0708| null|       C|\n",
              "|         11|       1|     3|Sandstrom, Miss. ...|female| 4.0|    1|    1|         PP 9549|   16.7|   G6|       S|\n",
              "|         12|       1|     1|Bonnell, Miss. El...|female|58.0|    0|    0|          113783|  26.55| C103|       S|\n",
              "|         13|       0|     3|Saundercock, Mr. ...|  male|20.0|    0|    0|       A/5. 2151|   8.05| null|       S|\n",
              "|         14|       0|     3|Andersson, Mr. An...|  male|39.0|    1|    5|          347082| 31.275| null|       S|\n",
              "|         15|       0|     3|Vestrom, Miss. Hu...|female|14.0|    0|    0|          350406| 7.8542| null|       S|\n",
              "|         16|       1|     2|Hewlett, Mrs. (Ma...|female|55.0|    0|    0|          248706|   16.0| null|       S|\n",
              "|         17|       0|     3|Rice, Master. Eugene|  male| 2.0|    4|    1|          382652| 29.125| null|       Q|\n",
              "|         18|       1|     2|Williams, Mr. Cha...|  male|null|    0|    0|          244373|   13.0| null|       S|\n",
              "|         19|       0|     3|Vander Planke, Mr...|female|31.0|    1|    0|          345763|   18.0| null|       S|\n",
              "|         20|       1|     3|Masselmani, Mrs. ...|female|null|    0|    0|            2649|  7.225| null|       C|\n",
              "+-----------+--------+------+--------------------+------+----+-----+-----+----------------+-------+-----+--------+\n",
              "only showing top 20 rows"
            ],
            "text/html": [
              "<table border='1'>\n",
              "<tr><th>PassengerId</th><th>Survived</th><th>Pclass</th><th>Name</th><th>Sex</th><th>Age</th><th>SibSp</th><th>Parch</th><th>Ticket</th><th>Fare</th><th>Cabin</th><th>Embarked</th></tr>\n",
              "<tr><td>1</td><td>0</td><td>3</td><td>Braund, Mr. Owen ...</td><td>male</td><td>22.0</td><td>1</td><td>0</td><td>A/5 21171</td><td>7.25</td><td>null</td><td>S</td></tr>\n",
              "<tr><td>2</td><td>1</td><td>1</td><td>Cumings, Mrs. Joh...</td><td>female</td><td>38.0</td><td>1</td><td>0</td><td>PC 17599</td><td>71.2833</td><td>C85</td><td>C</td></tr>\n",
              "<tr><td>3</td><td>1</td><td>3</td><td>Heikkinen, Miss. ...</td><td>female</td><td>26.0</td><td>0</td><td>0</td><td>STON/O2. 3101282</td><td>7.925</td><td>null</td><td>S</td></tr>\n",
              "<tr><td>4</td><td>1</td><td>1</td><td>Futrelle, Mrs. Ja...</td><td>female</td><td>35.0</td><td>1</td><td>0</td><td>113803</td><td>53.1</td><td>C123</td><td>S</td></tr>\n",
              "<tr><td>5</td><td>0</td><td>3</td><td>Allen, Mr. Willia...</td><td>male</td><td>35.0</td><td>0</td><td>0</td><td>373450</td><td>8.05</td><td>null</td><td>S</td></tr>\n",
              "<tr><td>6</td><td>0</td><td>3</td><td>Moran, Mr. James</td><td>male</td><td>null</td><td>0</td><td>0</td><td>330877</td><td>8.4583</td><td>null</td><td>Q</td></tr>\n",
              "<tr><td>7</td><td>0</td><td>1</td><td>McCarthy, Mr. Tim...</td><td>male</td><td>54.0</td><td>0</td><td>0</td><td>17463</td><td>51.8625</td><td>E46</td><td>S</td></tr>\n",
              "<tr><td>8</td><td>0</td><td>3</td><td>Palsson, Master. ...</td><td>male</td><td>2.0</td><td>3</td><td>1</td><td>349909</td><td>21.075</td><td>null</td><td>S</td></tr>\n",
              "<tr><td>9</td><td>1</td><td>3</td><td>Johnson, Mrs. Osc...</td><td>female</td><td>27.0</td><td>0</td><td>2</td><td>347742</td><td>11.1333</td><td>null</td><td>S</td></tr>\n",
              "<tr><td>10</td><td>1</td><td>2</td><td>Nasser, Mrs. Nich...</td><td>female</td><td>14.0</td><td>1</td><td>0</td><td>237736</td><td>30.0708</td><td>null</td><td>C</td></tr>\n",
              "<tr><td>11</td><td>1</td><td>3</td><td>Sandstrom, Miss. ...</td><td>female</td><td>4.0</td><td>1</td><td>1</td><td>PP 9549</td><td>16.7</td><td>G6</td><td>S</td></tr>\n",
              "<tr><td>12</td><td>1</td><td>1</td><td>Bonnell, Miss. El...</td><td>female</td><td>58.0</td><td>0</td><td>0</td><td>113783</td><td>26.55</td><td>C103</td><td>S</td></tr>\n",
              "<tr><td>13</td><td>0</td><td>3</td><td>Saundercock, Mr. ...</td><td>male</td><td>20.0</td><td>0</td><td>0</td><td>A/5. 2151</td><td>8.05</td><td>null</td><td>S</td></tr>\n",
              "<tr><td>14</td><td>0</td><td>3</td><td>Andersson, Mr. An...</td><td>male</td><td>39.0</td><td>1</td><td>5</td><td>347082</td><td>31.275</td><td>null</td><td>S</td></tr>\n",
              "<tr><td>15</td><td>0</td><td>3</td><td>Vestrom, Miss. Hu...</td><td>female</td><td>14.0</td><td>0</td><td>0</td><td>350406</td><td>7.8542</td><td>null</td><td>S</td></tr>\n",
              "<tr><td>16</td><td>1</td><td>2</td><td>Hewlett, Mrs. (Ma...</td><td>female</td><td>55.0</td><td>0</td><td>0</td><td>248706</td><td>16.0</td><td>null</td><td>S</td></tr>\n",
              "<tr><td>17</td><td>0</td><td>3</td><td>Rice, Master. Eugene</td><td>male</td><td>2.0</td><td>4</td><td>1</td><td>382652</td><td>29.125</td><td>null</td><td>Q</td></tr>\n",
              "<tr><td>18</td><td>1</td><td>2</td><td>Williams, Mr. Cha...</td><td>male</td><td>null</td><td>0</td><td>0</td><td>244373</td><td>13.0</td><td>null</td><td>S</td></tr>\n",
              "<tr><td>19</td><td>0</td><td>3</td><td>Vander Planke, Mr...</td><td>female</td><td>31.0</td><td>1</td><td>0</td><td>345763</td><td>18.0</td><td>null</td><td>S</td></tr>\n",
              "<tr><td>20</td><td>1</td><td>3</td><td>Masselmani, Mrs. ...</td><td>female</td><td>null</td><td>0</td><td>0</td><td>2649</td><td>7.225</td><td>null</td><td>C</td></tr>\n",
              "</table>\n",
              "only showing top 20 rows\n"
            ]
          },
          "metadata": {},
          "execution_count": 12
        }
      ]
    },
    {
      "cell_type": "code",
      "source": [
        "data.select('PassengerId').limit(5)#select statement from SQL"
      ],
      "metadata": {
        "colab": {
          "base_uri": "https://localhost:8080/",
          "height": 158
        },
        "id": "WcQQqEOc-_Zm",
        "outputId": "baa07178-e532-4882-a30c-429ba308843c"
      },
      "execution_count": 14,
      "outputs": [
        {
          "output_type": "execute_result",
          "data": {
            "text/plain": [
              "+-----------+\n",
              "|PassengerId|\n",
              "+-----------+\n",
              "|          1|\n",
              "|          2|\n",
              "|          3|\n",
              "|          4|\n",
              "|          5|\n",
              "+-----------+"
            ],
            "text/html": [
              "<table border='1'>\n",
              "<tr><th>PassengerId</th></tr>\n",
              "<tr><td>1</td></tr>\n",
              "<tr><td>2</td></tr>\n",
              "<tr><td>3</td></tr>\n",
              "<tr><td>4</td></tr>\n",
              "<tr><td>5</td></tr>\n",
              "</table>\n"
            ]
          },
          "metadata": {},
          "execution_count": 14
        }
      ]
    },
    {
      "cell_type": "code",
      "source": [
        "data.where(data.Age>25) #same as where in SQL"
      ],
      "metadata": {
        "colab": {
          "base_uri": "https://localhost:8080/",
          "height": 520
        },
        "id": "JdcppkIHBsK0",
        "outputId": "1fa39192-c7b7-4993-c485-d3b9abcde27f"
      },
      "execution_count": 16,
      "outputs": [
        {
          "output_type": "execute_result",
          "data": {
            "text/plain": [
              "+-----------+--------+------+--------------------+------+----+-----+-----+----------------+-------+-----+--------+\n",
              "|PassengerId|Survived|Pclass|                Name|   Sex| Age|SibSp|Parch|          Ticket|   Fare|Cabin|Embarked|\n",
              "+-----------+--------+------+--------------------+------+----+-----+-----+----------------+-------+-----+--------+\n",
              "|          2|       1|     1|Cumings, Mrs. Joh...|female|38.0|    1|    0|        PC 17599|71.2833|  C85|       C|\n",
              "|          3|       1|     3|Heikkinen, Miss. ...|female|26.0|    0|    0|STON/O2. 3101282|  7.925| null|       S|\n",
              "|          4|       1|     1|Futrelle, Mrs. Ja...|female|35.0|    1|    0|          113803|   53.1| C123|       S|\n",
              "|          5|       0|     3|Allen, Mr. Willia...|  male|35.0|    0|    0|          373450|   8.05| null|       S|\n",
              "|          7|       0|     1|McCarthy, Mr. Tim...|  male|54.0|    0|    0|           17463|51.8625|  E46|       S|\n",
              "|          9|       1|     3|Johnson, Mrs. Osc...|female|27.0|    0|    2|          347742|11.1333| null|       S|\n",
              "|         12|       1|     1|Bonnell, Miss. El...|female|58.0|    0|    0|          113783|  26.55| C103|       S|\n",
              "|         14|       0|     3|Andersson, Mr. An...|  male|39.0|    1|    5|          347082| 31.275| null|       S|\n",
              "|         16|       1|     2|Hewlett, Mrs. (Ma...|female|55.0|    0|    0|          248706|   16.0| null|       S|\n",
              "|         19|       0|     3|Vander Planke, Mr...|female|31.0|    1|    0|          345763|   18.0| null|       S|\n",
              "|         21|       0|     2|Fynney, Mr. Joseph J|  male|35.0|    0|    0|          239865|   26.0| null|       S|\n",
              "|         22|       1|     2|Beesley, Mr. Lawr...|  male|34.0|    0|    0|          248698|   13.0|  D56|       S|\n",
              "|         24|       1|     1|Sloper, Mr. Willi...|  male|28.0|    0|    0|          113788|   35.5|   A6|       S|\n",
              "|         26|       1|     3|Asplund, Mrs. Car...|female|38.0|    1|    5|          347077|31.3875| null|       S|\n",
              "|         31|       0|     1|Uruchurtu, Don. M...|  male|40.0|    0|    0|        PC 17601|27.7208| null|       C|\n",
              "|         34|       0|     2|Wheadon, Mr. Edwa...|  male|66.0|    0|    0|      C.A. 24579|   10.5| null|       S|\n",
              "|         35|       0|     1|Meyer, Mr. Edgar ...|  male|28.0|    1|    0|        PC 17604|82.1708| null|       C|\n",
              "|         36|       0|     1|Holverson, Mr. Al...|  male|42.0|    1|    0|          113789|   52.0| null|       S|\n",
              "|         41|       0|     3|Ahlin, Mrs. Johan...|female|40.0|    1|    0|            7546|  9.475| null|       S|\n",
              "|         42|       0|     2|Turpin, Mrs. Will...|female|27.0|    1|    0|           11668|   21.0| null|       S|\n",
              "+-----------+--------+------+--------------------+------+----+-----+-----+----------------+-------+-----+--------+\n",
              "only showing top 20 rows"
            ],
            "text/html": [
              "<table border='1'>\n",
              "<tr><th>PassengerId</th><th>Survived</th><th>Pclass</th><th>Name</th><th>Sex</th><th>Age</th><th>SibSp</th><th>Parch</th><th>Ticket</th><th>Fare</th><th>Cabin</th><th>Embarked</th></tr>\n",
              "<tr><td>2</td><td>1</td><td>1</td><td>Cumings, Mrs. Joh...</td><td>female</td><td>38.0</td><td>1</td><td>0</td><td>PC 17599</td><td>71.2833</td><td>C85</td><td>C</td></tr>\n",
              "<tr><td>3</td><td>1</td><td>3</td><td>Heikkinen, Miss. ...</td><td>female</td><td>26.0</td><td>0</td><td>0</td><td>STON/O2. 3101282</td><td>7.925</td><td>null</td><td>S</td></tr>\n",
              "<tr><td>4</td><td>1</td><td>1</td><td>Futrelle, Mrs. Ja...</td><td>female</td><td>35.0</td><td>1</td><td>0</td><td>113803</td><td>53.1</td><td>C123</td><td>S</td></tr>\n",
              "<tr><td>5</td><td>0</td><td>3</td><td>Allen, Mr. Willia...</td><td>male</td><td>35.0</td><td>0</td><td>0</td><td>373450</td><td>8.05</td><td>null</td><td>S</td></tr>\n",
              "<tr><td>7</td><td>0</td><td>1</td><td>McCarthy, Mr. Tim...</td><td>male</td><td>54.0</td><td>0</td><td>0</td><td>17463</td><td>51.8625</td><td>E46</td><td>S</td></tr>\n",
              "<tr><td>9</td><td>1</td><td>3</td><td>Johnson, Mrs. Osc...</td><td>female</td><td>27.0</td><td>0</td><td>2</td><td>347742</td><td>11.1333</td><td>null</td><td>S</td></tr>\n",
              "<tr><td>12</td><td>1</td><td>1</td><td>Bonnell, Miss. El...</td><td>female</td><td>58.0</td><td>0</td><td>0</td><td>113783</td><td>26.55</td><td>C103</td><td>S</td></tr>\n",
              "<tr><td>14</td><td>0</td><td>3</td><td>Andersson, Mr. An...</td><td>male</td><td>39.0</td><td>1</td><td>5</td><td>347082</td><td>31.275</td><td>null</td><td>S</td></tr>\n",
              "<tr><td>16</td><td>1</td><td>2</td><td>Hewlett, Mrs. (Ma...</td><td>female</td><td>55.0</td><td>0</td><td>0</td><td>248706</td><td>16.0</td><td>null</td><td>S</td></tr>\n",
              "<tr><td>19</td><td>0</td><td>3</td><td>Vander Planke, Mr...</td><td>female</td><td>31.0</td><td>1</td><td>0</td><td>345763</td><td>18.0</td><td>null</td><td>S</td></tr>\n",
              "<tr><td>21</td><td>0</td><td>2</td><td>Fynney, Mr. Joseph J</td><td>male</td><td>35.0</td><td>0</td><td>0</td><td>239865</td><td>26.0</td><td>null</td><td>S</td></tr>\n",
              "<tr><td>22</td><td>1</td><td>2</td><td>Beesley, Mr. Lawr...</td><td>male</td><td>34.0</td><td>0</td><td>0</td><td>248698</td><td>13.0</td><td>D56</td><td>S</td></tr>\n",
              "<tr><td>24</td><td>1</td><td>1</td><td>Sloper, Mr. Willi...</td><td>male</td><td>28.0</td><td>0</td><td>0</td><td>113788</td><td>35.5</td><td>A6</td><td>S</td></tr>\n",
              "<tr><td>26</td><td>1</td><td>3</td><td>Asplund, Mrs. Car...</td><td>female</td><td>38.0</td><td>1</td><td>5</td><td>347077</td><td>31.3875</td><td>null</td><td>S</td></tr>\n",
              "<tr><td>31</td><td>0</td><td>1</td><td>Uruchurtu, Don. M...</td><td>male</td><td>40.0</td><td>0</td><td>0</td><td>PC 17601</td><td>27.7208</td><td>null</td><td>C</td></tr>\n",
              "<tr><td>34</td><td>0</td><td>2</td><td>Wheadon, Mr. Edwa...</td><td>male</td><td>66.0</td><td>0</td><td>0</td><td>C.A. 24579</td><td>10.5</td><td>null</td><td>S</td></tr>\n",
              "<tr><td>35</td><td>0</td><td>1</td><td>Meyer, Mr. Edgar ...</td><td>male</td><td>28.0</td><td>1</td><td>0</td><td>PC 17604</td><td>82.1708</td><td>null</td><td>C</td></tr>\n",
              "<tr><td>36</td><td>0</td><td>1</td><td>Holverson, Mr. Al...</td><td>male</td><td>42.0</td><td>1</td><td>0</td><td>113789</td><td>52.0</td><td>null</td><td>S</td></tr>\n",
              "<tr><td>41</td><td>0</td><td>3</td><td>Ahlin, Mrs. Johan...</td><td>female</td><td>40.0</td><td>1</td><td>0</td><td>7546</td><td>9.475</td><td>null</td><td>S</td></tr>\n",
              "<tr><td>42</td><td>0</td><td>2</td><td>Turpin, Mrs. Will...</td><td>female</td><td>27.0</td><td>1</td><td>0</td><td>11668</td><td>21.0</td><td>null</td><td>S</td></tr>\n",
              "</table>\n",
              "only showing top 20 rows\n"
            ]
          },
          "metadata": {},
          "execution_count": 16
        }
      ]
    },
    {
      "cell_type": "code",
      "source": [
        "data.where((data.Age>25) & (data.Survived==1) )"
      ],
      "metadata": {
        "colab": {
          "base_uri": "https://localhost:8080/",
          "height": 520
        },
        "id": "yT778kvOBsNE",
        "outputId": "e24cd212-7478-4733-9ec6-85fbfa88614a"
      },
      "execution_count": 37,
      "outputs": [
        {
          "output_type": "execute_result",
          "data": {
            "text/plain": [
              "+-----------+--------+------+--------------------+------+----+-----+-----+----------------+-------+-----+--------+\n",
              "|PassengerId|Survived|Pclass|                Name|   Sex| Age|SibSp|Parch|          Ticket|   Fare|Cabin|Embarked|\n",
              "+-----------+--------+------+--------------------+------+----+-----+-----+----------------+-------+-----+--------+\n",
              "|          2|       1|     1|Cumings, Mrs. Joh...|female|38.0|    1|    0|        PC 17599|71.2833|  C85|       C|\n",
              "|          3|       1|     3|Heikkinen, Miss. ...|female|26.0|    0|    0|STON/O2. 3101282|  7.925| null|       S|\n",
              "|          4|       1|     1|Futrelle, Mrs. Ja...|female|35.0|    1|    0|          113803|   53.1| C123|       S|\n",
              "|          9|       1|     3|Johnson, Mrs. Osc...|female|27.0|    0|    2|          347742|11.1333| null|       S|\n",
              "|         12|       1|     1|Bonnell, Miss. El...|female|58.0|    0|    0|          113783|  26.55| C103|       S|\n",
              "|         16|       1|     2|Hewlett, Mrs. (Ma...|female|55.0|    0|    0|          248706|   16.0| null|       S|\n",
              "|         22|       1|     2|Beesley, Mr. Lawr...|  male|34.0|    0|    0|          248698|   13.0|  D56|       S|\n",
              "|         24|       1|     1|Sloper, Mr. Willi...|  male|28.0|    0|    0|          113788|   35.5|   A6|       S|\n",
              "|         26|       1|     3|Asplund, Mrs. Car...|female|38.0|    1|    5|          347077|31.3875| null|       S|\n",
              "|         53|       1|     1|Harper, Mrs. Henr...|female|49.0|    1|    0|        PC 17572|76.7292|  D33|       C|\n",
              "|         54|       1|     2|Faunthorpe, Mrs. ...|female|29.0|    1|    0|            2926|   26.0| null|       S|\n",
              "|         62|       1|     1| Icard, Miss. Amelie|female|38.0|    0|    0|          113572|   80.0|  B28|    null|\n",
              "|         67|       1|     2|Nye, Mrs. (Elizab...|female|29.0|    0|    0|      C.A. 29395|   10.5|  F33|       S|\n",
              "|         75|       1|     3|       Bing, Mr. Lee|  male|32.0|    0|    0|            1601|56.4958| null|       S|\n",
              "|         80|       1|     3|Dowdell, Miss. El...|female|30.0|    0|    0|          364516| 12.475| null|       S|\n",
              "|         82|       1|     3|Sheerlinck, Mr. J...|  male|29.0|    0|    0|          345779|    9.5| null|       S|\n",
              "|         86|       1|     3|Backstrom, Mrs. K...|female|33.0|    3|    0|         3101278|  15.85| null|       S|\n",
              "|         99|       1|     2|Doling, Mrs. John...|female|34.0|    0|    1|          231919|   23.0| null|       S|\n",
              "|        124|       1|     2| Webber, Miss. Susan|female|32.5|    0|    0|           27267|   13.0| E101|       S|\n",
              "|        134|       1|     2|Weisz, Mrs. Leopo...|female|29.0|    1|    0|          228414|   26.0| null|       S|\n",
              "+-----------+--------+------+--------------------+------+----+-----+-----+----------------+-------+-----+--------+\n",
              "only showing top 20 rows"
            ],
            "text/html": [
              "<table border='1'>\n",
              "<tr><th>PassengerId</th><th>Survived</th><th>Pclass</th><th>Name</th><th>Sex</th><th>Age</th><th>SibSp</th><th>Parch</th><th>Ticket</th><th>Fare</th><th>Cabin</th><th>Embarked</th></tr>\n",
              "<tr><td>2</td><td>1</td><td>1</td><td>Cumings, Mrs. Joh...</td><td>female</td><td>38.0</td><td>1</td><td>0</td><td>PC 17599</td><td>71.2833</td><td>C85</td><td>C</td></tr>\n",
              "<tr><td>3</td><td>1</td><td>3</td><td>Heikkinen, Miss. ...</td><td>female</td><td>26.0</td><td>0</td><td>0</td><td>STON/O2. 3101282</td><td>7.925</td><td>null</td><td>S</td></tr>\n",
              "<tr><td>4</td><td>1</td><td>1</td><td>Futrelle, Mrs. Ja...</td><td>female</td><td>35.0</td><td>1</td><td>0</td><td>113803</td><td>53.1</td><td>C123</td><td>S</td></tr>\n",
              "<tr><td>9</td><td>1</td><td>3</td><td>Johnson, Mrs. Osc...</td><td>female</td><td>27.0</td><td>0</td><td>2</td><td>347742</td><td>11.1333</td><td>null</td><td>S</td></tr>\n",
              "<tr><td>12</td><td>1</td><td>1</td><td>Bonnell, Miss. El...</td><td>female</td><td>58.0</td><td>0</td><td>0</td><td>113783</td><td>26.55</td><td>C103</td><td>S</td></tr>\n",
              "<tr><td>16</td><td>1</td><td>2</td><td>Hewlett, Mrs. (Ma...</td><td>female</td><td>55.0</td><td>0</td><td>0</td><td>248706</td><td>16.0</td><td>null</td><td>S</td></tr>\n",
              "<tr><td>22</td><td>1</td><td>2</td><td>Beesley, Mr. Lawr...</td><td>male</td><td>34.0</td><td>0</td><td>0</td><td>248698</td><td>13.0</td><td>D56</td><td>S</td></tr>\n",
              "<tr><td>24</td><td>1</td><td>1</td><td>Sloper, Mr. Willi...</td><td>male</td><td>28.0</td><td>0</td><td>0</td><td>113788</td><td>35.5</td><td>A6</td><td>S</td></tr>\n",
              "<tr><td>26</td><td>1</td><td>3</td><td>Asplund, Mrs. Car...</td><td>female</td><td>38.0</td><td>1</td><td>5</td><td>347077</td><td>31.3875</td><td>null</td><td>S</td></tr>\n",
              "<tr><td>53</td><td>1</td><td>1</td><td>Harper, Mrs. Henr...</td><td>female</td><td>49.0</td><td>1</td><td>0</td><td>PC 17572</td><td>76.7292</td><td>D33</td><td>C</td></tr>\n",
              "<tr><td>54</td><td>1</td><td>2</td><td>Faunthorpe, Mrs. ...</td><td>female</td><td>29.0</td><td>1</td><td>0</td><td>2926</td><td>26.0</td><td>null</td><td>S</td></tr>\n",
              "<tr><td>62</td><td>1</td><td>1</td><td>Icard, Miss. Amelie</td><td>female</td><td>38.0</td><td>0</td><td>0</td><td>113572</td><td>80.0</td><td>B28</td><td>null</td></tr>\n",
              "<tr><td>67</td><td>1</td><td>2</td><td>Nye, Mrs. (Elizab...</td><td>female</td><td>29.0</td><td>0</td><td>0</td><td>C.A. 29395</td><td>10.5</td><td>F33</td><td>S</td></tr>\n",
              "<tr><td>75</td><td>1</td><td>3</td><td>Bing, Mr. Lee</td><td>male</td><td>32.0</td><td>0</td><td>0</td><td>1601</td><td>56.4958</td><td>null</td><td>S</td></tr>\n",
              "<tr><td>80</td><td>1</td><td>3</td><td>Dowdell, Miss. El...</td><td>female</td><td>30.0</td><td>0</td><td>0</td><td>364516</td><td>12.475</td><td>null</td><td>S</td></tr>\n",
              "<tr><td>82</td><td>1</td><td>3</td><td>Sheerlinck, Mr. J...</td><td>male</td><td>29.0</td><td>0</td><td>0</td><td>345779</td><td>9.5</td><td>null</td><td>S</td></tr>\n",
              "<tr><td>86</td><td>1</td><td>3</td><td>Backstrom, Mrs. K...</td><td>female</td><td>33.0</td><td>3</td><td>0</td><td>3101278</td><td>15.85</td><td>null</td><td>S</td></tr>\n",
              "<tr><td>99</td><td>1</td><td>2</td><td>Doling, Mrs. John...</td><td>female</td><td>34.0</td><td>0</td><td>1</td><td>231919</td><td>23.0</td><td>null</td><td>S</td></tr>\n",
              "<tr><td>124</td><td>1</td><td>2</td><td>Webber, Miss. Susan</td><td>female</td><td>32.5</td><td>0</td><td>0</td><td>27267</td><td>13.0</td><td>E101</td><td>S</td></tr>\n",
              "<tr><td>134</td><td>1</td><td>2</td><td>Weisz, Mrs. Leopo...</td><td>female</td><td>29.0</td><td>1</td><td>0</td><td>228414</td><td>26.0</td><td>null</td><td>S</td></tr>\n",
              "</table>\n",
              "only showing top 20 rows\n"
            ]
          },
          "metadata": {},
          "execution_count": 37
        }
      ]
    },
    {
      "cell_type": "code",
      "source": [
        "#To get the average of Fare\n",
        "data.agg({'Fare':'avg'})"
      ],
      "metadata": {
        "colab": {
          "base_uri": "https://localhost:8080/",
          "height": 67
        },
        "id": "HfMjMvsjBsPS",
        "outputId": "2ac8ac57-0cea-49c2-e1fc-5fadb7e078ed"
      },
      "execution_count": 21,
      "outputs": [
        {
          "output_type": "execute_result",
          "data": {
            "text/plain": [
              "+----------------+\n",
              "|       avg(Fare)|\n",
              "+----------------+\n",
              "|32.2042079685746|\n",
              "+----------------+"
            ],
            "text/html": [
              "<table border='1'>\n",
              "<tr><th>avg(Fare)</th></tr>\n",
              "<tr><td>32.2042079685746</td></tr>\n",
              "</table>\n"
            ]
          },
          "metadata": {},
          "execution_count": 21
        }
      ]
    },
    {
      "cell_type": "code",
      "source": [
        "data.groupBy('Pclass').agg({\"Fare\":\"avg\"})# To get the average for Each Class"
      ],
      "metadata": {
        "colab": {
          "base_uri": "https://localhost:8080/",
          "height": 112
        },
        "id": "EdWCh_mBBsRa",
        "outputId": "486a7722-9470-4b38-d8b1-f42cd75a03d7"
      },
      "execution_count": 24,
      "outputs": [
        {
          "output_type": "execute_result",
          "data": {
            "text/plain": [
              "+------+------------------+\n",
              "|Pclass|         avg(Fare)|\n",
              "+------+------------------+\n",
              "|     1| 84.15468749999992|\n",
              "|     3|13.675550101832997|\n",
              "|     2| 20.66218315217391|\n",
              "+------+------------------+"
            ],
            "text/html": [
              "<table border='1'>\n",
              "<tr><th>Pclass</th><th>avg(Fare)</th></tr>\n",
              "<tr><td>1</td><td>84.15468749999992</td></tr>\n",
              "<tr><td>3</td><td>13.675550101832997</td></tr>\n",
              "<tr><td>2</td><td>20.66218315217391</td></tr>\n",
              "</table>\n"
            ]
          },
          "metadata": {},
          "execution_count": 24
        }
      ]
    },
    {
      "cell_type": "code",
      "source": [
        "data.groupBy('Pclass').agg({\"Fare\":\"avg\"}).orderBy('Pclass')#order the average"
      ],
      "metadata": {
        "colab": {
          "base_uri": "https://localhost:8080/",
          "height": 112
        },
        "id": "TyvMb1tlBsTn",
        "outputId": "3ddf4d96-1c5b-4eb3-be9c-641e4db83172"
      },
      "execution_count": 26,
      "outputs": [
        {
          "output_type": "execute_result",
          "data": {
            "text/plain": [
              "+------+------------------+\n",
              "|Pclass|         avg(Fare)|\n",
              "+------+------------------+\n",
              "|     1| 84.15468749999992|\n",
              "|     2| 20.66218315217391|\n",
              "|     3|13.675550101832997|\n",
              "+------+------------------+"
            ],
            "text/html": [
              "<table border='1'>\n",
              "<tr><th>Pclass</th><th>avg(Fare)</th></tr>\n",
              "<tr><td>1</td><td>84.15468749999992</td></tr>\n",
              "<tr><td>2</td><td>20.66218315217391</td></tr>\n",
              "<tr><td>3</td><td>13.675550101832997</td></tr>\n",
              "</table>\n"
            ]
          },
          "metadata": {},
          "execution_count": 26
        }
      ]
    },
    {
      "cell_type": "code",
      "source": [
        "data.groupBy(data.Pclass).agg({'Fare':'max'})"
      ],
      "metadata": {
        "colab": {
          "base_uri": "https://localhost:8080/",
          "height": 112
        },
        "id": "w_v0jDo-BsWI",
        "outputId": "1bb3b6c7-adac-415b-b489-0074d4aa6d20"
      },
      "execution_count": 31,
      "outputs": [
        {
          "output_type": "execute_result",
          "data": {
            "text/plain": [
              "+------+---------+\n",
              "|Pclass|max(Fare)|\n",
              "+------+---------+\n",
              "|     1| 512.3292|\n",
              "|     3|    69.55|\n",
              "|     2|     73.5|\n",
              "+------+---------+"
            ],
            "text/html": [
              "<table border='1'>\n",
              "<tr><th>Pclass</th><th>max(Fare)</th></tr>\n",
              "<tr><td>1</td><td>512.3292</td></tr>\n",
              "<tr><td>3</td><td>69.55</td></tr>\n",
              "<tr><td>2</td><td>73.5</td></tr>\n",
              "</table>\n"
            ]
          },
          "metadata": {},
          "execution_count": 31
        }
      ]
    },
    {
      "cell_type": "code",
      "source": [
        "from pyspark.sql.types import IntegerType\n",
        "from pyspark.sql.functions import udf #user defined function"
      ],
      "metadata": {
        "id": "U_53ldhGBsYV"
      },
      "execution_count": 8,
      "outputs": []
    },
    {
      "cell_type": "code",
      "source": [
        "def round_value(x):\n",
        "  return int(x)"
      ],
      "metadata": {
        "id": "1H2xh5aaBsak"
      },
      "execution_count": 9,
      "outputs": []
    },
    {
      "cell_type": "code",
      "source": [
        "round_value_udf=udf(round_value,IntegerType())#converts it into spark function udf"
      ],
      "metadata": {
        "id": "EqArW2iJBsdD"
      },
      "execution_count": 10,
      "outputs": []
    },
    {
      "cell_type": "code",
      "source": [
        "data.select(round_value_udf('Fare')).alias('Fare Rounded Down')"
      ],
      "metadata": {
        "colab": {
          "base_uri": "https://localhost:8080/",
          "height": 520
        },
        "id": "fJoBDMz-Bsfd",
        "outputId": "4f8f1c30-f53e-4a23-fbaa-a106f51833b4"
      },
      "execution_count": 11,
      "outputs": [
        {
          "output_type": "execute_result",
          "data": {
            "text/plain": [
              "+-----------------+\n",
              "|round_value(Fare)|\n",
              "+-----------------+\n",
              "|                7|\n",
              "|               71|\n",
              "|                7|\n",
              "|               53|\n",
              "|                8|\n",
              "|                8|\n",
              "|               51|\n",
              "|               21|\n",
              "|               11|\n",
              "|               30|\n",
              "|               16|\n",
              "|               26|\n",
              "|                8|\n",
              "|               31|\n",
              "|                7|\n",
              "|               16|\n",
              "|               29|\n",
              "|               13|\n",
              "|               18|\n",
              "|                7|\n",
              "+-----------------+\n",
              "only showing top 20 rows"
            ],
            "text/html": [
              "<table border='1'>\n",
              "<tr><th>round_value(Fare)</th></tr>\n",
              "<tr><td>7</td></tr>\n",
              "<tr><td>71</td></tr>\n",
              "<tr><td>7</td></tr>\n",
              "<tr><td>53</td></tr>\n",
              "<tr><td>8</td></tr>\n",
              "<tr><td>8</td></tr>\n",
              "<tr><td>51</td></tr>\n",
              "<tr><td>21</td></tr>\n",
              "<tr><td>11</td></tr>\n",
              "<tr><td>30</td></tr>\n",
              "<tr><td>16</td></tr>\n",
              "<tr><td>26</td></tr>\n",
              "<tr><td>8</td></tr>\n",
              "<tr><td>31</td></tr>\n",
              "<tr><td>7</td></tr>\n",
              "<tr><td>16</td></tr>\n",
              "<tr><td>29</td></tr>\n",
              "<tr><td>13</td></tr>\n",
              "<tr><td>18</td></tr>\n",
              "<tr><td>7</td></tr>\n",
              "</table>\n",
              "only showing top 20 rows\n"
            ]
          },
          "metadata": {},
          "execution_count": 11
        }
      ]
    },
    {
      "cell_type": "code",
      "source": [
        "data.createOrReplaceTempView(\"Titanic\") #this is in order to run sql querries such as below"
      ],
      "metadata": {
        "id": "ixkjdrdyBsiB"
      },
      "execution_count": 12,
      "outputs": []
    },
    {
      "cell_type": "code",
      "source": [
        "spark.sql('select * from Titanic')#now you can run normal SQL querries"
      ],
      "metadata": {
        "colab": {
          "base_uri": "https://localhost:8080/",
          "height": 520
        },
        "id": "8Wdwze-WBskf",
        "outputId": "fc33011b-96af-4c83-a93b-2df80ebd8c5e"
      },
      "execution_count": 13,
      "outputs": [
        {
          "output_type": "execute_result",
          "data": {
            "text/plain": [
              "+-----------+--------+------+--------------------+------+----+-----+-----+----------------+-------+-----+--------+\n",
              "|PassengerId|Survived|Pclass|                Name|   Sex| Age|SibSp|Parch|          Ticket|   Fare|Cabin|Embarked|\n",
              "+-----------+--------+------+--------------------+------+----+-----+-----+----------------+-------+-----+--------+\n",
              "|          1|       0|     3|Braund, Mr. Owen ...|  male|22.0|    1|    0|       A/5 21171|   7.25| null|       S|\n",
              "|          2|       1|     1|Cumings, Mrs. Joh...|female|38.0|    1|    0|        PC 17599|71.2833|  C85|       C|\n",
              "|          3|       1|     3|Heikkinen, Miss. ...|female|26.0|    0|    0|STON/O2. 3101282|  7.925| null|       S|\n",
              "|          4|       1|     1|Futrelle, Mrs. Ja...|female|35.0|    1|    0|          113803|   53.1| C123|       S|\n",
              "|          5|       0|     3|Allen, Mr. Willia...|  male|35.0|    0|    0|          373450|   8.05| null|       S|\n",
              "|          6|       0|     3|    Moran, Mr. James|  male|null|    0|    0|          330877| 8.4583| null|       Q|\n",
              "|          7|       0|     1|McCarthy, Mr. Tim...|  male|54.0|    0|    0|           17463|51.8625|  E46|       S|\n",
              "|          8|       0|     3|Palsson, Master. ...|  male| 2.0|    3|    1|          349909| 21.075| null|       S|\n",
              "|          9|       1|     3|Johnson, Mrs. Osc...|female|27.0|    0|    2|          347742|11.1333| null|       S|\n",
              "|         10|       1|     2|Nasser, Mrs. Nich...|female|14.0|    1|    0|          237736|30.0708| null|       C|\n",
              "|         11|       1|     3|Sandstrom, Miss. ...|female| 4.0|    1|    1|         PP 9549|   16.7|   G6|       S|\n",
              "|         12|       1|     1|Bonnell, Miss. El...|female|58.0|    0|    0|          113783|  26.55| C103|       S|\n",
              "|         13|       0|     3|Saundercock, Mr. ...|  male|20.0|    0|    0|       A/5. 2151|   8.05| null|       S|\n",
              "|         14|       0|     3|Andersson, Mr. An...|  male|39.0|    1|    5|          347082| 31.275| null|       S|\n",
              "|         15|       0|     3|Vestrom, Miss. Hu...|female|14.0|    0|    0|          350406| 7.8542| null|       S|\n",
              "|         16|       1|     2|Hewlett, Mrs. (Ma...|female|55.0|    0|    0|          248706|   16.0| null|       S|\n",
              "|         17|       0|     3|Rice, Master. Eugene|  male| 2.0|    4|    1|          382652| 29.125| null|       Q|\n",
              "|         18|       1|     2|Williams, Mr. Cha...|  male|null|    0|    0|          244373|   13.0| null|       S|\n",
              "|         19|       0|     3|Vander Planke, Mr...|female|31.0|    1|    0|          345763|   18.0| null|       S|\n",
              "|         20|       1|     3|Masselmani, Mrs. ...|female|null|    0|    0|            2649|  7.225| null|       C|\n",
              "+-----------+--------+------+--------------------+------+----+-----+-----+----------------+-------+-----+--------+\n",
              "only showing top 20 rows"
            ],
            "text/html": [
              "<table border='1'>\n",
              "<tr><th>PassengerId</th><th>Survived</th><th>Pclass</th><th>Name</th><th>Sex</th><th>Age</th><th>SibSp</th><th>Parch</th><th>Ticket</th><th>Fare</th><th>Cabin</th><th>Embarked</th></tr>\n",
              "<tr><td>1</td><td>0</td><td>3</td><td>Braund, Mr. Owen ...</td><td>male</td><td>22.0</td><td>1</td><td>0</td><td>A/5 21171</td><td>7.25</td><td>null</td><td>S</td></tr>\n",
              "<tr><td>2</td><td>1</td><td>1</td><td>Cumings, Mrs. Joh...</td><td>female</td><td>38.0</td><td>1</td><td>0</td><td>PC 17599</td><td>71.2833</td><td>C85</td><td>C</td></tr>\n",
              "<tr><td>3</td><td>1</td><td>3</td><td>Heikkinen, Miss. ...</td><td>female</td><td>26.0</td><td>0</td><td>0</td><td>STON/O2. 3101282</td><td>7.925</td><td>null</td><td>S</td></tr>\n",
              "<tr><td>4</td><td>1</td><td>1</td><td>Futrelle, Mrs. Ja...</td><td>female</td><td>35.0</td><td>1</td><td>0</td><td>113803</td><td>53.1</td><td>C123</td><td>S</td></tr>\n",
              "<tr><td>5</td><td>0</td><td>3</td><td>Allen, Mr. Willia...</td><td>male</td><td>35.0</td><td>0</td><td>0</td><td>373450</td><td>8.05</td><td>null</td><td>S</td></tr>\n",
              "<tr><td>6</td><td>0</td><td>3</td><td>Moran, Mr. James</td><td>male</td><td>null</td><td>0</td><td>0</td><td>330877</td><td>8.4583</td><td>null</td><td>Q</td></tr>\n",
              "<tr><td>7</td><td>0</td><td>1</td><td>McCarthy, Mr. Tim...</td><td>male</td><td>54.0</td><td>0</td><td>0</td><td>17463</td><td>51.8625</td><td>E46</td><td>S</td></tr>\n",
              "<tr><td>8</td><td>0</td><td>3</td><td>Palsson, Master. ...</td><td>male</td><td>2.0</td><td>3</td><td>1</td><td>349909</td><td>21.075</td><td>null</td><td>S</td></tr>\n",
              "<tr><td>9</td><td>1</td><td>3</td><td>Johnson, Mrs. Osc...</td><td>female</td><td>27.0</td><td>0</td><td>2</td><td>347742</td><td>11.1333</td><td>null</td><td>S</td></tr>\n",
              "<tr><td>10</td><td>1</td><td>2</td><td>Nasser, Mrs. Nich...</td><td>female</td><td>14.0</td><td>1</td><td>0</td><td>237736</td><td>30.0708</td><td>null</td><td>C</td></tr>\n",
              "<tr><td>11</td><td>1</td><td>3</td><td>Sandstrom, Miss. ...</td><td>female</td><td>4.0</td><td>1</td><td>1</td><td>PP 9549</td><td>16.7</td><td>G6</td><td>S</td></tr>\n",
              "<tr><td>12</td><td>1</td><td>1</td><td>Bonnell, Miss. El...</td><td>female</td><td>58.0</td><td>0</td><td>0</td><td>113783</td><td>26.55</td><td>C103</td><td>S</td></tr>\n",
              "<tr><td>13</td><td>0</td><td>3</td><td>Saundercock, Mr. ...</td><td>male</td><td>20.0</td><td>0</td><td>0</td><td>A/5. 2151</td><td>8.05</td><td>null</td><td>S</td></tr>\n",
              "<tr><td>14</td><td>0</td><td>3</td><td>Andersson, Mr. An...</td><td>male</td><td>39.0</td><td>1</td><td>5</td><td>347082</td><td>31.275</td><td>null</td><td>S</td></tr>\n",
              "<tr><td>15</td><td>0</td><td>3</td><td>Vestrom, Miss. Hu...</td><td>female</td><td>14.0</td><td>0</td><td>0</td><td>350406</td><td>7.8542</td><td>null</td><td>S</td></tr>\n",
              "<tr><td>16</td><td>1</td><td>2</td><td>Hewlett, Mrs. (Ma...</td><td>female</td><td>55.0</td><td>0</td><td>0</td><td>248706</td><td>16.0</td><td>null</td><td>S</td></tr>\n",
              "<tr><td>17</td><td>0</td><td>3</td><td>Rice, Master. Eugene</td><td>male</td><td>2.0</td><td>4</td><td>1</td><td>382652</td><td>29.125</td><td>null</td><td>Q</td></tr>\n",
              "<tr><td>18</td><td>1</td><td>2</td><td>Williams, Mr. Cha...</td><td>male</td><td>null</td><td>0</td><td>0</td><td>244373</td><td>13.0</td><td>null</td><td>S</td></tr>\n",
              "<tr><td>19</td><td>0</td><td>3</td><td>Vander Planke, Mr...</td><td>female</td><td>31.0</td><td>1</td><td>0</td><td>345763</td><td>18.0</td><td>null</td><td>S</td></tr>\n",
              "<tr><td>20</td><td>1</td><td>3</td><td>Masselmani, Mrs. ...</td><td>female</td><td>null</td><td>0</td><td>0</td><td>2649</td><td>7.225</td><td>null</td><td>C</td></tr>\n",
              "</table>\n",
              "only showing top 20 rows\n"
            ]
          },
          "metadata": {},
          "execution_count": 13
        }
      ]
    },
    {
      "cell_type": "code",
      "source": [
        "spark.sql('select * from Titanic where Pclass == 1')"
      ],
      "metadata": {
        "colab": {
          "base_uri": "https://localhost:8080/",
          "height": 520
        },
        "id": "HP5eTi2RBsmn",
        "outputId": "05bcf72a-c9f7-4739-f085-d21d9aac277a"
      },
      "execution_count": 24,
      "outputs": [
        {
          "output_type": "execute_result",
          "data": {
            "text/plain": [
              "+-----------+--------+------+--------------------+------+----+-----+-----+-----------+--------+-----------+--------+\n",
              "|PassengerId|Survived|Pclass|                Name|   Sex| Age|SibSp|Parch|     Ticket|    Fare|      Cabin|Embarked|\n",
              "+-----------+--------+------+--------------------+------+----+-----+-----+-----------+--------+-----------+--------+\n",
              "|          2|       1|     1|Cumings, Mrs. Joh...|female|38.0|    1|    0|   PC 17599| 71.2833|        C85|       C|\n",
              "|          4|       1|     1|Futrelle, Mrs. Ja...|female|35.0|    1|    0|     113803|    53.1|       C123|       S|\n",
              "|          7|       0|     1|McCarthy, Mr. Tim...|  male|54.0|    0|    0|      17463| 51.8625|        E46|       S|\n",
              "|         12|       1|     1|Bonnell, Miss. El...|female|58.0|    0|    0|     113783|   26.55|       C103|       S|\n",
              "|         24|       1|     1|Sloper, Mr. Willi...|  male|28.0|    0|    0|     113788|    35.5|         A6|       S|\n",
              "|         28|       0|     1|Fortune, Mr. Char...|  male|19.0|    3|    2|      19950|   263.0|C23 C25 C27|       S|\n",
              "|         31|       0|     1|Uruchurtu, Don. M...|  male|40.0|    0|    0|   PC 17601| 27.7208|       null|       C|\n",
              "|         32|       1|     1|Spencer, Mrs. Wil...|female|null|    1|    0|   PC 17569|146.5208|        B78|       C|\n",
              "|         35|       0|     1|Meyer, Mr. Edgar ...|  male|28.0|    1|    0|   PC 17604| 82.1708|       null|       C|\n",
              "|         36|       0|     1|Holverson, Mr. Al...|  male|42.0|    1|    0|     113789|    52.0|       null|       S|\n",
              "|         53|       1|     1|Harper, Mrs. Henr...|female|49.0|    1|    0|   PC 17572| 76.7292|        D33|       C|\n",
              "|         55|       0|     1|Ostby, Mr. Engelh...|  male|65.0|    0|    1|     113509| 61.9792|        B30|       C|\n",
              "|         56|       1|     1|   Woolner, Mr. Hugh|  male|null|    0|    0|      19947|    35.5|        C52|       S|\n",
              "|         62|       1|     1| Icard, Miss. Amelie|female|38.0|    0|    0|     113572|    80.0|        B28|    null|\n",
              "|         63|       0|     1|Harris, Mr. Henry...|  male|45.0|    1|    0|      36973|  83.475|        C83|       S|\n",
              "|         65|       0|     1|Stewart, Mr. Albe...|  male|null|    0|    0|   PC 17605| 27.7208|       null|       C|\n",
              "|         84|       0|     1|Carrau, Mr. Franc...|  male|28.0|    0|    0|     113059|    47.1|       null|       S|\n",
              "|         89|       1|     1|Fortune, Miss. Ma...|female|23.0|    3|    2|      19950|   263.0|C23 C25 C27|       S|\n",
              "|         93|       0|     1|Chaffee, Mr. Herb...|  male|46.0|    1|    0|W.E.P. 5734|  61.175|        E31|       S|\n",
              "|         97|       0|     1|Goldschmidt, Mr. ...|  male|71.0|    0|    0|   PC 17754| 34.6542|         A5|       C|\n",
              "+-----------+--------+------+--------------------+------+----+-----+-----+-----------+--------+-----------+--------+\n",
              "only showing top 20 rows"
            ],
            "text/html": [
              "<table border='1'>\n",
              "<tr><th>PassengerId</th><th>Survived</th><th>Pclass</th><th>Name</th><th>Sex</th><th>Age</th><th>SibSp</th><th>Parch</th><th>Ticket</th><th>Fare</th><th>Cabin</th><th>Embarked</th></tr>\n",
              "<tr><td>2</td><td>1</td><td>1</td><td>Cumings, Mrs. Joh...</td><td>female</td><td>38.0</td><td>1</td><td>0</td><td>PC 17599</td><td>71.2833</td><td>C85</td><td>C</td></tr>\n",
              "<tr><td>4</td><td>1</td><td>1</td><td>Futrelle, Mrs. Ja...</td><td>female</td><td>35.0</td><td>1</td><td>0</td><td>113803</td><td>53.1</td><td>C123</td><td>S</td></tr>\n",
              "<tr><td>7</td><td>0</td><td>1</td><td>McCarthy, Mr. Tim...</td><td>male</td><td>54.0</td><td>0</td><td>0</td><td>17463</td><td>51.8625</td><td>E46</td><td>S</td></tr>\n",
              "<tr><td>12</td><td>1</td><td>1</td><td>Bonnell, Miss. El...</td><td>female</td><td>58.0</td><td>0</td><td>0</td><td>113783</td><td>26.55</td><td>C103</td><td>S</td></tr>\n",
              "<tr><td>24</td><td>1</td><td>1</td><td>Sloper, Mr. Willi...</td><td>male</td><td>28.0</td><td>0</td><td>0</td><td>113788</td><td>35.5</td><td>A6</td><td>S</td></tr>\n",
              "<tr><td>28</td><td>0</td><td>1</td><td>Fortune, Mr. Char...</td><td>male</td><td>19.0</td><td>3</td><td>2</td><td>19950</td><td>263.0</td><td>C23 C25 C27</td><td>S</td></tr>\n",
              "<tr><td>31</td><td>0</td><td>1</td><td>Uruchurtu, Don. M...</td><td>male</td><td>40.0</td><td>0</td><td>0</td><td>PC 17601</td><td>27.7208</td><td>null</td><td>C</td></tr>\n",
              "<tr><td>32</td><td>1</td><td>1</td><td>Spencer, Mrs. Wil...</td><td>female</td><td>null</td><td>1</td><td>0</td><td>PC 17569</td><td>146.5208</td><td>B78</td><td>C</td></tr>\n",
              "<tr><td>35</td><td>0</td><td>1</td><td>Meyer, Mr. Edgar ...</td><td>male</td><td>28.0</td><td>1</td><td>0</td><td>PC 17604</td><td>82.1708</td><td>null</td><td>C</td></tr>\n",
              "<tr><td>36</td><td>0</td><td>1</td><td>Holverson, Mr. Al...</td><td>male</td><td>42.0</td><td>1</td><td>0</td><td>113789</td><td>52.0</td><td>null</td><td>S</td></tr>\n",
              "<tr><td>53</td><td>1</td><td>1</td><td>Harper, Mrs. Henr...</td><td>female</td><td>49.0</td><td>1</td><td>0</td><td>PC 17572</td><td>76.7292</td><td>D33</td><td>C</td></tr>\n",
              "<tr><td>55</td><td>0</td><td>1</td><td>Ostby, Mr. Engelh...</td><td>male</td><td>65.0</td><td>0</td><td>1</td><td>113509</td><td>61.9792</td><td>B30</td><td>C</td></tr>\n",
              "<tr><td>56</td><td>1</td><td>1</td><td>Woolner, Mr. Hugh</td><td>male</td><td>null</td><td>0</td><td>0</td><td>19947</td><td>35.5</td><td>C52</td><td>S</td></tr>\n",
              "<tr><td>62</td><td>1</td><td>1</td><td>Icard, Miss. Amelie</td><td>female</td><td>38.0</td><td>0</td><td>0</td><td>113572</td><td>80.0</td><td>B28</td><td>null</td></tr>\n",
              "<tr><td>63</td><td>0</td><td>1</td><td>Harris, Mr. Henry...</td><td>male</td><td>45.0</td><td>1</td><td>0</td><td>36973</td><td>83.475</td><td>C83</td><td>S</td></tr>\n",
              "<tr><td>65</td><td>0</td><td>1</td><td>Stewart, Mr. Albe...</td><td>male</td><td>null</td><td>0</td><td>0</td><td>PC 17605</td><td>27.7208</td><td>null</td><td>C</td></tr>\n",
              "<tr><td>84</td><td>0</td><td>1</td><td>Carrau, Mr. Franc...</td><td>male</td><td>28.0</td><td>0</td><td>0</td><td>113059</td><td>47.1</td><td>null</td><td>S</td></tr>\n",
              "<tr><td>89</td><td>1</td><td>1</td><td>Fortune, Miss. Ma...</td><td>female</td><td>23.0</td><td>3</td><td>2</td><td>19950</td><td>263.0</td><td>C23 C25 C27</td><td>S</td></tr>\n",
              "<tr><td>93</td><td>0</td><td>1</td><td>Chaffee, Mr. Herb...</td><td>male</td><td>46.0</td><td>1</td><td>0</td><td>W.E.P. 5734</td><td>61.175</td><td>E31</td><td>S</td></tr>\n",
              "<tr><td>97</td><td>0</td><td>1</td><td>Goldschmidt, Mr. ...</td><td>male</td><td>71.0</td><td>0</td><td>0</td><td>PC 17754</td><td>34.6542</td><td>A5</td><td>C</td></tr>\n",
              "</table>\n",
              "only showing top 20 rows\n"
            ]
          },
          "metadata": {},
          "execution_count": 24
        }
      ]
    },
    {
      "cell_type": "code",
      "source": [
        "spark.sql('select * from Titanic where Age > (select avg(age) from Titanic)')"
      ],
      "metadata": {
        "colab": {
          "base_uri": "https://localhost:8080/",
          "height": 520
        },
        "id": "ZIX02fXjBso2",
        "outputId": "12618498-8706-480c-fae9-82b84493dace"
      },
      "execution_count": 34,
      "outputs": [
        {
          "output_type": "execute_result",
          "data": {
            "text/plain": [
              "+-----------+--------+------+--------------------+------+----+-----+-----+----------+-------+-----+--------+\n",
              "|PassengerId|Survived|Pclass|                Name|   Sex| Age|SibSp|Parch|    Ticket|   Fare|Cabin|Embarked|\n",
              "+-----------+--------+------+--------------------+------+----+-----+-----+----------+-------+-----+--------+\n",
              "|          2|       1|     1|Cumings, Mrs. Joh...|female|38.0|    1|    0|  PC 17599|71.2833|  C85|       C|\n",
              "|          4|       1|     1|Futrelle, Mrs. Ja...|female|35.0|    1|    0|    113803|   53.1| C123|       S|\n",
              "|          5|       0|     3|Allen, Mr. Willia...|  male|35.0|    0|    0|    373450|   8.05| null|       S|\n",
              "|          7|       0|     1|McCarthy, Mr. Tim...|  male|54.0|    0|    0|     17463|51.8625|  E46|       S|\n",
              "|         12|       1|     1|Bonnell, Miss. El...|female|58.0|    0|    0|    113783|  26.55| C103|       S|\n",
              "|         14|       0|     3|Andersson, Mr. An...|  male|39.0|    1|    5|    347082| 31.275| null|       S|\n",
              "|         16|       1|     2|Hewlett, Mrs. (Ma...|female|55.0|    0|    0|    248706|   16.0| null|       S|\n",
              "|         19|       0|     3|Vander Planke, Mr...|female|31.0|    1|    0|    345763|   18.0| null|       S|\n",
              "|         21|       0|     2|Fynney, Mr. Joseph J|  male|35.0|    0|    0|    239865|   26.0| null|       S|\n",
              "|         22|       1|     2|Beesley, Mr. Lawr...|  male|34.0|    0|    0|    248698|   13.0|  D56|       S|\n",
              "|         26|       1|     3|Asplund, Mrs. Car...|female|38.0|    1|    5|    347077|31.3875| null|       S|\n",
              "|         31|       0|     1|Uruchurtu, Don. M...|  male|40.0|    0|    0|  PC 17601|27.7208| null|       C|\n",
              "|         34|       0|     2|Wheadon, Mr. Edwa...|  male|66.0|    0|    0|C.A. 24579|   10.5| null|       S|\n",
              "|         36|       0|     1|Holverson, Mr. Al...|  male|42.0|    1|    0|    113789|   52.0| null|       S|\n",
              "|         41|       0|     3|Ahlin, Mrs. Johan...|female|40.0|    1|    0|      7546|  9.475| null|       S|\n",
              "|         53|       1|     1|Harper, Mrs. Henr...|female|49.0|    1|    0|  PC 17572|76.7292|  D33|       C|\n",
              "|         55|       0|     1|Ostby, Mr. Engelh...|  male|65.0|    0|    1|    113509|61.9792|  B30|       C|\n",
              "|         62|       1|     1| Icard, Miss. Amelie|female|38.0|    0|    0|    113572|   80.0|  B28|    null|\n",
              "|         63|       0|     1|Harris, Mr. Henry...|  male|45.0|    1|    0|     36973| 83.475|  C83|       S|\n",
              "|         71|       0|     2|Jenkin, Mr. Steph...|  male|32.0|    0|    0|C.A. 33111|   10.5| null|       S|\n",
              "+-----------+--------+------+--------------------+------+----+-----+-----+----------+-------+-----+--------+\n",
              "only showing top 20 rows"
            ],
            "text/html": [
              "<table border='1'>\n",
              "<tr><th>PassengerId</th><th>Survived</th><th>Pclass</th><th>Name</th><th>Sex</th><th>Age</th><th>SibSp</th><th>Parch</th><th>Ticket</th><th>Fare</th><th>Cabin</th><th>Embarked</th></tr>\n",
              "<tr><td>2</td><td>1</td><td>1</td><td>Cumings, Mrs. Joh...</td><td>female</td><td>38.0</td><td>1</td><td>0</td><td>PC 17599</td><td>71.2833</td><td>C85</td><td>C</td></tr>\n",
              "<tr><td>4</td><td>1</td><td>1</td><td>Futrelle, Mrs. Ja...</td><td>female</td><td>35.0</td><td>1</td><td>0</td><td>113803</td><td>53.1</td><td>C123</td><td>S</td></tr>\n",
              "<tr><td>5</td><td>0</td><td>3</td><td>Allen, Mr. Willia...</td><td>male</td><td>35.0</td><td>0</td><td>0</td><td>373450</td><td>8.05</td><td>null</td><td>S</td></tr>\n",
              "<tr><td>7</td><td>0</td><td>1</td><td>McCarthy, Mr. Tim...</td><td>male</td><td>54.0</td><td>0</td><td>0</td><td>17463</td><td>51.8625</td><td>E46</td><td>S</td></tr>\n",
              "<tr><td>12</td><td>1</td><td>1</td><td>Bonnell, Miss. El...</td><td>female</td><td>58.0</td><td>0</td><td>0</td><td>113783</td><td>26.55</td><td>C103</td><td>S</td></tr>\n",
              "<tr><td>14</td><td>0</td><td>3</td><td>Andersson, Mr. An...</td><td>male</td><td>39.0</td><td>1</td><td>5</td><td>347082</td><td>31.275</td><td>null</td><td>S</td></tr>\n",
              "<tr><td>16</td><td>1</td><td>2</td><td>Hewlett, Mrs. (Ma...</td><td>female</td><td>55.0</td><td>0</td><td>0</td><td>248706</td><td>16.0</td><td>null</td><td>S</td></tr>\n",
              "<tr><td>19</td><td>0</td><td>3</td><td>Vander Planke, Mr...</td><td>female</td><td>31.0</td><td>1</td><td>0</td><td>345763</td><td>18.0</td><td>null</td><td>S</td></tr>\n",
              "<tr><td>21</td><td>0</td><td>2</td><td>Fynney, Mr. Joseph J</td><td>male</td><td>35.0</td><td>0</td><td>0</td><td>239865</td><td>26.0</td><td>null</td><td>S</td></tr>\n",
              "<tr><td>22</td><td>1</td><td>2</td><td>Beesley, Mr. Lawr...</td><td>male</td><td>34.0</td><td>0</td><td>0</td><td>248698</td><td>13.0</td><td>D56</td><td>S</td></tr>\n",
              "<tr><td>26</td><td>1</td><td>3</td><td>Asplund, Mrs. Car...</td><td>female</td><td>38.0</td><td>1</td><td>5</td><td>347077</td><td>31.3875</td><td>null</td><td>S</td></tr>\n",
              "<tr><td>31</td><td>0</td><td>1</td><td>Uruchurtu, Don. M...</td><td>male</td><td>40.0</td><td>0</td><td>0</td><td>PC 17601</td><td>27.7208</td><td>null</td><td>C</td></tr>\n",
              "<tr><td>34</td><td>0</td><td>2</td><td>Wheadon, Mr. Edwa...</td><td>male</td><td>66.0</td><td>0</td><td>0</td><td>C.A. 24579</td><td>10.5</td><td>null</td><td>S</td></tr>\n",
              "<tr><td>36</td><td>0</td><td>1</td><td>Holverson, Mr. Al...</td><td>male</td><td>42.0</td><td>1</td><td>0</td><td>113789</td><td>52.0</td><td>null</td><td>S</td></tr>\n",
              "<tr><td>41</td><td>0</td><td>3</td><td>Ahlin, Mrs. Johan...</td><td>female</td><td>40.0</td><td>1</td><td>0</td><td>7546</td><td>9.475</td><td>null</td><td>S</td></tr>\n",
              "<tr><td>53</td><td>1</td><td>1</td><td>Harper, Mrs. Henr...</td><td>female</td><td>49.0</td><td>1</td><td>0</td><td>PC 17572</td><td>76.7292</td><td>D33</td><td>C</td></tr>\n",
              "<tr><td>55</td><td>0</td><td>1</td><td>Ostby, Mr. Engelh...</td><td>male</td><td>65.0</td><td>0</td><td>1</td><td>113509</td><td>61.9792</td><td>B30</td><td>C</td></tr>\n",
              "<tr><td>62</td><td>1</td><td>1</td><td>Icard, Miss. Amelie</td><td>female</td><td>38.0</td><td>0</td><td>0</td><td>113572</td><td>80.0</td><td>B28</td><td>null</td></tr>\n",
              "<tr><td>63</td><td>0</td><td>1</td><td>Harris, Mr. Henry...</td><td>male</td><td>45.0</td><td>1</td><td>0</td><td>36973</td><td>83.475</td><td>C83</td><td>S</td></tr>\n",
              "<tr><td>71</td><td>0</td><td>2</td><td>Jenkin, Mr. Steph...</td><td>male</td><td>32.0</td><td>0</td><td>0</td><td>C.A. 33111</td><td>10.5</td><td>null</td><td>S</td></tr>\n",
              "</table>\n",
              "only showing top 20 rows\n"
            ]
          },
          "metadata": {},
          "execution_count": 34
        }
      ]
    },
    {
      "cell_type": "code",
      "source": [
        "spark.sql('select avg(age) from Titanic ')"
      ],
      "metadata": {
        "colab": {
          "base_uri": "https://localhost:8080/",
          "height": 67
        },
        "id": "i6YfJEVOBsrd",
        "outputId": "38bcb758-9851-46a3-9a73-70252bb4bafc"
      },
      "execution_count": 35,
      "outputs": [
        {
          "output_type": "execute_result",
          "data": {
            "text/plain": [
              "+-----------------+\n",
              "|         avg(age)|\n",
              "+-----------------+\n",
              "|29.69911764705882|\n",
              "+-----------------+"
            ],
            "text/html": [
              "<table border='1'>\n",
              "<tr><th>avg(age)</th></tr>\n",
              "<tr><td>29.69911764705882</td></tr>\n",
              "</table>\n"
            ]
          },
          "metadata": {},
          "execution_count": 35
        }
      ]
    },
    {
      "cell_type": "code",
      "source": [],
      "metadata": {
        "id": "tAVl5oagBst0"
      },
      "execution_count": null,
      "outputs": []
    },
    {
      "cell_type": "code",
      "source": [],
      "metadata": {
        "id": "kZZq-ulKBswH"
      },
      "execution_count": null,
      "outputs": []
    },
    {
      "cell_type": "code",
      "source": [],
      "metadata": {
        "id": "yFsNSWFyBsyv"
      },
      "execution_count": null,
      "outputs": []
    },
    {
      "cell_type": "code",
      "source": [],
      "metadata": {
        "id": "SUepSIB6Bs0w"
      },
      "execution_count": null,
      "outputs": []
    },
    {
      "cell_type": "code",
      "source": [],
      "metadata": {
        "id": "OOLwPfeBBs3J"
      },
      "execution_count": null,
      "outputs": []
    },
    {
      "cell_type": "code",
      "source": [],
      "metadata": {
        "id": "SMWurNGjBs5U"
      },
      "execution_count": null,
      "outputs": []
    }
  ]
}